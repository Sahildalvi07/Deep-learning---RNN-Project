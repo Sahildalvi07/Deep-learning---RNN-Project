{
 "cells": [
  {
   "cell_type": "code",
   "execution_count": 1,
   "id": "5fbe9296-6853-4ba6-8966-1813dae05ee7",
   "metadata": {},
   "outputs": [],
   "source": [
    "import numpy as np\n",
    "import matplotlib.pyplot as plt\n",
    "import tensorflow as tf\n",
    "from tensorflow.keras.preprocessing.image import ImageDataGenerator\n",
    "from tensorflow.keras.models import Sequential\n",
    "from tensorflow.keras.layers import Dense, Conv2D, Flatten, MaxPool2D"
   ]
  },
  {
   "cell_type": "code",
   "execution_count": 2,
   "id": "8fea8a91-f3c1-41bc-ba0c-e17b935d545a",
   "metadata": {},
   "outputs": [],
   "source": [
    "import warnings\n",
    "warnings.filterwarnings(\"ignore\")"
   ]
  },
  {
   "cell_type": "code",
   "execution_count": 3,
   "id": "715aaa1c-d216-4931-938d-fd395f97a855",
   "metadata": {},
   "outputs": [],
   "source": [
    "train_dir = r\"C:\\Users\\sahil\\Desktop\\AI and DL\\Covid19-dataset\\train\"\n",
    "test_dir = r\"C:\\Users\\sahil\\Desktop\\AI and DL\\Covid19-dataset\\test\""
   ]
  },
  {
   "cell_type": "code",
   "execution_count": 5,
   "id": "c30a91db-260c-48b6-b9bb-a4b377f50527",
   "metadata": {},
   "outputs": [],
   "source": [
    "img_width, img_height = 1000, 1000\n",
    "img_shape =(img_width, img_height, 3)"
   ]
  },
  {
   "cell_type": "code",
   "execution_count": 6,
   "id": "ce2dde36-d637-4823-9540-d48b13b6175b",
   "metadata": {},
   "outputs": [],
   "source": [
    "train_datagen = ImageDataGenerator(\n",
    "    rescale = 1/255.0,\n",
    "    rotation_range=20,\n",
    "    width_shift_range=0.1,\n",
    "    height_shift_range=0.1,\n",
    "    shear_range=0.2,\n",
    "    zoom_range=0.2,\n",
    "    horizontal_flip=True,\n",
    "    fill_mode=\"nearest\"\n",
    ")"
   ]
  },
  {
   "cell_type": "code",
   "execution_count": 7,
   "id": "aa478d2b-74e4-44cb-9679-29054b392633",
   "metadata": {},
   "outputs": [],
   "source": [
    "test_datagen = ImageDataGenerator(rescale = 1.0/255.0)"
   ]
  },
  {
   "cell_type": "code",
   "execution_count": 9,
   "id": "9a8c2dd6-aea4-4f14-bb50-52c46b64763b",
   "metadata": {},
   "outputs": [
    {
     "name": "stdout",
     "output_type": "stream",
     "text": [
      "Found 251 images belonging to 3 classes.\n"
     ]
    }
   ],
   "source": [
    "train_data = train_datagen.flow_from_directory(\n",
    "    train_dir,\n",
    "    batch_size = 32,\n",
    "    class_mode = \"categorical\",\n",
    "    target_size=(img_width, img_height)\n",
    ")"
   ]
  },
  {
   "cell_type": "code",
   "execution_count": 11,
   "id": "4dce9e82-7b31-4a93-8086-2b9a0e8d1c50",
   "metadata": {},
   "outputs": [
    {
     "name": "stdout",
     "output_type": "stream",
     "text": [
      "Found 66 images belonging to 3 classes.\n"
     ]
    }
   ],
   "source": [
    "test_data = train_datagen.flow_from_directory(\n",
    "    test_dir,\n",
    "    batch_size = 32,\n",
    "    class_mode = \"categorical\",\n",
    "    target_size=(img_width, img_height)\n",
    ")"
   ]
  },
  {
   "cell_type": "code",
   "execution_count": 13,
   "id": "f95b39d5-f1e1-4457-a7fe-a9d43934f47e",
   "metadata": {},
   "outputs": [],
   "source": [
    "model = Sequential([\n",
    "    Conv2D(64, (3,3), input_shape=img_shape, activation=\"relu\"),\n",
    "    MaxPool2D((2,2)),\n",
    "    Conv2D(32, (3,3), activation=\"relu\"),\n",
    "    MaxPool2D((2,2)),\n",
    "    Conv2D(32, (3,3), activation=\"relu\"),\n",
    "    MaxPool2D((2,2)),\n",
    "    Flatten(),\n",
    "    Dense(128, activation=\"relu\"),\n",
    "    Dense(3, activation=\"softmax\")\n",
    "])"
   ]
  },
  {
   "cell_type": "code",
   "execution_count": 15,
   "id": "567c6713-47a0-41e1-8dd6-b9076b59ea14",
   "metadata": {},
   "outputs": [],
   "source": [
    "model.compile(optimizer=\"adam\", loss=\"categorical_crossentropy\", metrics=[\"accuracy\"])"
   ]
  },
  {
   "cell_type": "code",
   "execution_count": null,
   "id": "723afdbb-b6c0-4681-8c3e-1af52c50ec66",
   "metadata": {},
   "outputs": [
    {
     "name": "stdout",
     "output_type": "stream",
     "text": [
      "Epoch 1/20\n"
     ]
    }
   ],
   "source": [
    "history = model.fit(train_data, epochs=20, batch_size=32, validation_data=test_data)"
   ]
  },
  {
   "cell_type": "code",
   "execution_count": null,
   "id": "fb59f293-9aca-4f52-8a4f-12c43763e404",
   "metadata": {},
   "outputs": [],
   "source": []
  }
 ],
 "metadata": {
  "kernelspec": {
   "display_name": "Python 3 (ipykernel)",
   "language": "python",
   "name": "python3"
  },
  "language_info": {
   "codemirror_mode": {
    "name": "ipython",
    "version": 3
   },
   "file_extension": ".py",
   "mimetype": "text/x-python",
   "name": "python",
   "nbconvert_exporter": "python",
   "pygments_lexer": "ipython3",
   "version": "3.12.0"
  }
 },
 "nbformat": 4,
 "nbformat_minor": 5
}
